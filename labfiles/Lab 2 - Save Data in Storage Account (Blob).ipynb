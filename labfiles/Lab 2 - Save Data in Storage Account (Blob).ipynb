{
  "cells": [
    {
      "metadata": {},
      "cell_type": "markdown",
      "source": "## Save Data in Azure Storage\nAzure Storage provides several different types of non-relational storage, depending on the type of data you have and how you need to access it:\n\n- Table Storage: provides low-cost, high-volume storage for tabular data, such as collected sensor logs, diagnostic logs, and so on.\n- Blob storage: provides file-like storage for any type of data.\n\nSince we will be working with images in this lab, we will be using the Blob storage of our Azure Storage Account."
    },
    {
      "metadata": {},
      "cell_type": "markdown",
      "source": "## Prerequisites\n\n**IMPORTANT**: To run this code, you must create your own Azure Storage account and specify your account name and key in the variables below. \n\n- Create a storage account\n- Create a container in your storage account\n- Copy your credentials from the Azure portal. Put simply, on the Azure portal, go to the storage account and navigate to **Settings > Access keys**. Then copy either **key1** or **key2** and paste into the applicable code cells in this section.\n\n\n## Resources\n\n- [Quickstart: Create a storage account](https://docs.microsoft.com/en-us/azure/storage/common/storage-quickstart-create-account?tabs=azure-portal) \n- [Azure Storage libraries for Python](https://docs.microsoft.com/en-us/python/api/overview/azure/storage?view=azure-python)\n\n\n## Running the walkthrough\n### Create and initialize the application\nInstall the Azure Storage Account SDK for Python:"
    },
    {
      "metadata": {
        "trusted": true
      },
      "cell_type": "code",
      "source": "!pip install azure-storage",
      "execution_count": null,
      "outputs": []
    },
    {
      "metadata": {},
      "cell_type": "markdown",
      "source": "### Access Azure Blobs\nYou have created an Azure Storage Account in Azure. Now, you need to specify the credentials here in order to connect with it. Make sure you modify the variables in between angle brackets with your specific values obtained in the Prerequisites section."
    },
    {
      "metadata": {
        "trusted": true
      },
      "cell_type": "code",
      "source": "# Modify these variables with your specific values obtained in the Prerequisites section\nazure_storage_account_name = \"<Your-Storage-Account-Name>\"\nazure_storage_account_key = \"<Your-Storage-Account-Key>\"\n\nif azure_storage_account_name is None or azure_storage_account_key is None:\n    raise Exception(\"Provide your specific name and key for your Azure Storage account--see the Prerequisites section earlier.\")",
      "execution_count": null,
      "outputs": []
    },
    {
      "metadata": {
        "trusted": true
      },
      "cell_type": "code",
      "source": "from azure.storage.blob import BlockBlobService\n\nblob_service=BlockBlobService(\n    account_name=azure_storage_account_name,\n    account_key=azure_storage_account_key)",
      "execution_count": null,
      "outputs": []
    },
    {
      "metadata": {},
      "cell_type": "markdown",
      "source": "### Saves images\nSave the images that you obtained with the Bing Search API and have saved locally, to your Blob Storage. Make sure to save all images of the same category in separate folders. \n\nAgain: **don't forget to replace the values in between angle brackets with your own names!**"
    },
    {
      "metadata": {},
      "cell_type": "markdown",
      "source": "Category 1:"
    },
    {
      "metadata": {
        "trusted": true
      },
      "cell_type": "code",
      "source": "for i in range(0,25):\n    blob_service.create_blob_from_path(\"images/<name-of-first-category>\", \"<name-of-first-category>_\"+str(i)+\".png\", \"./data/cat1/<name-of-first-category>_\"+str(i)+\".png\")",
      "execution_count": null,
      "outputs": []
    },
    {
      "metadata": {},
      "cell_type": "markdown",
      "source": "Category 2:"
    },
    {
      "metadata": {
        "trusted": true
      },
      "cell_type": "code",
      "source": "for i in range(0,25):\n    blob_service.create_blob_from_path(\"<name-of-second-category>\", \"<name-of-second-category>_\"+str(i)+\".png\", \"./data/cat2/<name-of-second-category>_\"+str(i)+\".png\")",
      "execution_count": null,
      "outputs": []
    },
    {
      "metadata": {
        "trusted": true
      },
      "cell_type": "markdown",
      "source": "End of Lab 2:\n- Images have been saved in your Blob storage. Go to your Storage Account in the Azure portal and verify that the images have been correctly saved."
    }
  ],
  "metadata": {
    "kernelspec": {
      "name": "python3",
      "display_name": "Python 3",
      "language": "python"
    },
    "language_info": {
      "mimetype": "text/x-python",
      "nbconvert_exporter": "python",
      "name": "python",
      "file_extension": ".py",
      "version": "3.5.4",
      "pygments_lexer": "ipython3",
      "codemirror_mode": {
        "version": 3,
        "name": "ipython"
      }
    }
  },
  "nbformat": 4,
  "nbformat_minor": 1
}